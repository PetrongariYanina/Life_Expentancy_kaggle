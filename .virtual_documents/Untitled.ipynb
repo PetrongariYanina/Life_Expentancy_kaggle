import pandas as pd
import seaborn as sns
import matplotlib.pyplot as plt
import numpy as np


df = pd.read_csv('train.csv')
df.head()


df.info()


df = df.drop_duplicates()
df.describe(include=['object'])


df['Status'] = df['Status'].map({'Developed':1, 'Developing':0}).astype(int)
df['Status'].head()
