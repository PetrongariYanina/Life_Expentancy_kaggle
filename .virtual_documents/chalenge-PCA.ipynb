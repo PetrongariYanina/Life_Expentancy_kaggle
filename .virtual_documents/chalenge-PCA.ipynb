import pandas as pd
import seaborn as sns
import matplotlib.pyplot as plt
import numpy as np
from sklearn.linear_model import ElasticNet
from sklearn.model_selection import train_test_split
from sklearn.metrics import mean_squared_error, r2_score
from sklearn.linear_model import LinearRegression
from sklearn.preprocessing import PolynomialFeatures
from sklearn.pipeline import make_pipeline



df = pd.read_csv('train.csv')
df.head()


df.info()





df = df.drop_duplicates()
df.describe(include=['object'])


df.columns = df.columns.str.strip()


df['Status'] = df['Status'].map({'Developed':1, 'Developing':0}).astype(int)
df['Status'].head()


valores_unicos = df['Country'].unique()
valores_unicos


countries_by_continent = {
    'Cabo Verde': 'Africa', 'Saint Lucia': 'North America', 'Tunisia': 'Africa', 'Brunei Darussalam': 'Asia',
    'Equatorial Guinea': 'Africa', 'Papua New Guinea': 'Oceania', 'Ecuador': 'South America', 'Mongolia': 'Asia',
    'Poland': 'Europe', 'Oman': 'Asia', 'Senegal': 'Africa', 'Kuwait': 'Asia', 'Sierra Leone': 'Africa',
    'Saudi Arabia': 'Asia', 'India': 'Asia', 'Chad': 'Africa', 'Guinea-Bissau': 'Africa', 'Mauritius': 'Africa',
    'Ghana': 'Africa', 'Solomon Islands': 'Oceania', 'Ireland': 'Europe', 'Israel': 'Asia', 'Fiji': 'Oceania',
    'Uzbekistan': 'Asia', 'France': 'Europe', 'Malaysia': 'Asia', 'Singapore': 'Asia', "Côte d'Ivoire": 'Africa',
    'El Salvador': 'North America', 'Belarus': 'Europe', 'Luxembourg': 'Europe', 'Armenia': 'Asia', 'Turkmenistan': 'Asia',
    'Bahamas': 'North America', 'Belgium': 'Europe', 'Nicaragua': 'North America', 'Lesotho': 'Africa',
    'Iran (Islamic Republic of)': 'Asia', 'Dominican Republic': 'North America', 'Liberia': 'Africa',
    'Serbia': 'Europe', 'Denmark': 'Europe', 'Netherlands': 'Europe', 'Kyrgyzstan': 'Asia', 'Slovenia': 'Europe',
    'Kazakhstan': 'Asia', 'Azerbaijan': 'Asia', 'Nepal': 'Asia', 'Montenegro': 'Europe',
    'Democratic Republic of the Congo': 'Africa', 'Mali': 'Africa', 'United Kingdom of Great Britain and Northern Ireland': 'Europe',
    'Bolivia (Plurinational State of)': 'South America', 'South Sudan': 'Africa', 'Finland': 'Europe',
    'Cyprus': 'Asia', 'Uruguay': 'South America', 'Belize': 'North America', 'United Republic of Tanzania': 'Africa',
    'Madagascar': 'Africa', "Lao People's Democratic Republic": 'Asia', 'Bahrain': 'Asia', 'Ukraine': 'Europe',
    'Sweden': 'Europe', 'Kenya': 'Africa', 'Micronesia (Federated States of)': 'Oceania', 'Cuba': 'North America',
    'Cameroon': 'Africa', 'Gambia': 'Africa', 'Somalia': 'Africa', 'Pakistan': 'Asia', 'Malawi': 'Africa',
    'Yemen': 'Asia', 'Tajikistan': 'Asia', 'Mozambique': 'Africa', 'Jamaica': 'North America', 'Namibia': 'Africa',
    'Spain': 'Europe', 'Tonga': 'Oceania', 'Peru': 'South America', 'Botswana': 'Africa', 'Mexico': 'North America',
    'Sao Tome and Principe': 'Africa', 'Croatia': 'Europe', 'Malta': 'Europe', 'Switzerland': 'Europe', 'Honduras': 'North America',
    'Venezuela (Bolivarian Republic of)': 'South America', 'Uganda': 'Africa', 'Congo': 'Africa', 'Germany': 'Europe',
    'Georgia': 'Asia', 'Norway': 'Europe', 'Swaziland': 'Africa', 'Chile': 'South America', 'Slovakia': 'Europe', 'Iceland': 'Europe',
    'Brazil': 'South America', 'Barbados': 'North America', 'Myanmar': 'Asia', 'Guatemala': 'North America', 'Marshall Islands': 'Oceania',
    'Angola': 'Africa', 'Mauritania': 'Africa', 'China': 'Asia', 'Seychelles': 'Africa', 'Eritrea': 'Africa',
    'Morocco': 'Africa', "Democratic People's Republic of Korea": 'Asia', 'Burundi': 'Africa', 'Antigua and Barbuda': 'North America',
    'Timor-Leste': 'Asia', 'Djibouti': 'Africa', 'Romania': 'Europe', 'Nigeria': 'Africa', 'Benin': 'Africa',
    'The former Yugoslav republic of Macedonia': 'Europe', 'Egypt': 'Africa', 'Comoros': 'Africa', 'Zimbabwe': 'Africa',
    'Trinidad and Tobago': 'North America', 'Canada': 'North America', 'Central African Republic': 'Africa', 'Lithuania': 'Europe',
    'Sudan': 'Africa', 'Costa Rica': 'North America', 'Republic of Moldova': 'Europe', 'Lebanon': 'Asia', 'Qatar': 'Asia',
    'Sri Lanka': 'Asia', 'United Arab Emirates': 'Asia', 'Indonesia': 'Asia', 'Saint Vincent and the Grenadines': 'North America',
    'Panama': 'North America', 'Albania': 'Europe', 'Paraguay': 'South America', 'Rwanda': 'Africa', 'Republic of Korea': 'Asia',
    'Haiti': 'North America', 'Iraq': 'Asia', 'Bhutan': 'Asia', 'Colombia': 'South America', 'Turkey': 'Asia',
    'Philippines': 'Asia', 'Guinea': 'Africa', 'Grenada': 'North America', 'Maldives': 'Asia', 'Gabon': 'Africa',
    'New Zealand': 'Oceania', 'Samoa': 'Oceania', 'South Africa': 'Africa', 'Niue': 'Oceania', 'Latvia': 'Europe',
    'Australia': 'Oceania', 'Burkina Faso': 'Africa', 'Libya': 'Africa', 'Bosnia and Herzegovina': 'Europe', 'Kiribati': 'Oceania',
    'Argentina': 'South America', 'Cambodia': 'Asia', 'Vanuatu': 'Oceania', 'Zambia': 'Africa', 'Japan': 'Asia',
    'Guyana': 'South America', 'Afghanistan': 'Asia', 'Suriname': 'South America', 'Thailand': 'Asia', 'Bangladesh': 'Asia',
    'Greece': 'Europe', 'Austria': 'Europe', 'Ethiopia': 'Africa', 'Togo': 'Africa', 'Czechia': 'Europe', 'Niger': 'Africa',
    'Italy': 'Europe', 'Hungary': 'Europe', 'Estonia': 'Europe', 'Viet Nam': 'Asia', 'Jordan': 'Asia', 'Russian Federation': 'Asia',
    'Syrian Arab Republic': 'Asia', 'United States of America': 'North America', 'Portugal': 'Europe', 'Bulgaria': 'Europe',
    'Saint Kitts and Nevis': 'North America', 'Algeria': 'Africa', 'Nauru': 'Oceania', 'Cook Islands': 'Oceania', 'Palau': 'Oceania',
    'Monaco': 'Europe', 'Dominica': 'North America'
}


df['region']= df['Country'].map(countries_by_continent)
df = df.drop(columns=['Country'])


df.head()


valores_unicos = df['region'].unique()
valores_unicos


df['region'].isnull().sum()


df_encoded = pd.get_dummies(df, columns=['region'], drop_first=False, dtype= 'int')


print(df_encoded[['region_Africa', 'region_North America', 'region_Asia', 'region_Oceania', 'region_South America']].head())


df_encoded 


df_encoded.info()


corr = df_encoded.corr()
fig = plt.subplots(figsize=(20, 10))
sns.heatmap(corr, annot=True, cmap='coolwarm', fmt='.1f')


df_encoded.head()





X = df_encoded.drop(columns=['Life expectancy'])
y = df_encoded['Life expectancy']


from sklearn.preprocessing import StandardScaler

scaler = StandardScaler()

X_scaled= scaler.fit_transform(X)


from sklearn.decomposition import PCA

pca = PCA(n_components=2)

X_pca = pca.fit_transform(X_scaled)

PCA_data= pd.DataFrame(X_pca, columns=['PCA1','PCA2'])
PCA_data['Life expectancy'] = df_encoded['Life expectancy']
varianza_acumalada = np.cumsum(pca.explained_variance_ratio_)
PCA_data.head()


varianza_acumalada


sns.scatterplot(data=PCA_data, x= 'PCA1', y='PCA2', hue= 'Life expectancy')
plt.show()


from sklearn.model_selection import train_test_split
from sklearn.metrics import accuracy_score

X= df_encoded.drop(columns=['Life expectancy'])
y= df_encoded['Life expectancy']


X_train, X_test, y_train, y_test = train_test_split(X, y, test_size=0.2, random_state=42)

reg = LinearRegression()
reg.fit(X_train, y_train)

y_pred_PCA = reg.predict(X_test)

mse = mean_squared_error (y_test, y_pred_PCA)
r_squared = r2_score(y_test, y_pred_PCA)



print(f'Mean Squared Error PCA: {mse}')
print(f'R-Squered PCA: {r_squared}')



y_pred_test = reg.predict(X_test)



from sklearn.preprocessing import OrdinalEncoder


encoder = OrdinalEncoder()

test = pd.DataFrame(df_encoded.drop(columns=['Life expectancy']))
test.to_csv('test.csv')




y_pred = reg.predict(test)
y_pred



print(len(range(1, len(y_pred) + 1)))


y_pred.shape, test.shape


y_pred = y_pred[:588]       
test = test.iloc[:588, :] 

y_pred.shape, test.shape


# prediciendo sobre el test set
print(y_pred[0:20])
# para descargar en ordenador
def download_output(y_pred, name):
  output = pd.DataFrame({'ID': range(1, len(y_pred)+1),
      'Life expectancy': y_pred})
  output.to_csv(name, index=False)
download_output(y_pred, 'submission3.csv')
